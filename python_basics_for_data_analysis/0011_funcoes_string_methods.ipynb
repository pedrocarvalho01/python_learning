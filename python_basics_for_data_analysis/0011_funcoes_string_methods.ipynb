{
 "cells": [
  {
   "cell_type": "markdown",
   "id": "9ad4d122",
   "metadata": {},
   "source": [
    "Excelente. Com o domínio de **List Comprehension**, já estamos perto de entrar nos fundamentos de **Pandas** com mais fluidez.\n",
    "\n",
    "Antes disso, há mais **dois tópicos essenciais** para que você consiga entender e resolver problemas reais com DataFrames:\n",
    "\n",
    "---\n",
    "\n",
    "## 🔟 **Funções (Functions)**\n",
    "\n",
    "> Saber escrever e usar funções é fundamental para modularizar a lógica de transformação de dados.\n",
    "\n",
    "Em especial, você vai precisar de:\n",
    "\n",
    "* `def` (definir funções)\n",
    "* `return`\n",
    "* Argumentos com e sem valor padrão\n",
    "* Aplicações práticas (e.g., usar funções com `apply()` no Pandas)\n",
    "\n",
    "---\n",
    "\n",
    "## 1️⃣1️⃣ **Manipulação de Strings (String Methods)**\n",
    "\n",
    "> Strings são uma das colunas mais comuns em bases de dados. Saber aplicar métodos como `.strip()`, `.lower()`, `.split()`, `.replace()` e expressões regulares (`re`) é essencial para pré-processamento de texto.\n",
    "\n",
    "---\n",
    "\n",
    "Esses dois temas completam as peças que faltam para você:\n",
    "\n",
    "* Criar transformações reutilizáveis e customizadas com funções\n",
    "* Manipular colunas textuais (nomes, categorias, códigos)\n",
    "\n",
    "⚠️ Após isso, entramos direto em **introdução ao Pandas**, já aplicando tudo que foi aprendido até agora.\n",
    "\n",
    "---\n",
    "\n",
    "🔁 **Seguimos com \"Funções\" agora?**\n"
   ]
  },
  {
   "cell_type": "markdown",
   "id": "621898cd",
   "metadata": {},
   "source": []
  }
 ],
 "metadata": {
  "language_info": {
   "name": "python"
  }
 },
 "nbformat": 4,
 "nbformat_minor": 5
}
