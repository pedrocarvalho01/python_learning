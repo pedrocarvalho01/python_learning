{
 "cells": [
  {
   "cell_type": "markdown",
   "id": "0f8ae9df",
   "metadata": {},
   "source": [
    "🗃️ Tópico 3: Listas (Lists)\n",
    "\n",
    "📌 Por que isso é importante?\n",
    "\n",
    "Listas são estruturas fundamentais no Python para representar colunas de dados, registros, resultados de consultas ou mesmo linhas de arquivos CSV. São o primeiro passo para entender como o Python armazena coleções.\n",
    "\n",
    "🧠 Conceitos-Chave (para sua referência)\n",
    "\n",
    "Uma lista é uma sequência ordenada de elementos:\n",
    "nomes = ['Pedro', 'Maria', 'João']\n",
    "\n",
    "Listas podem conter qualquer tipo de dado (strings, números, booleanos, listas).\n",
    "\n",
    "São mutáveis: você pode adicionar, remover ou alterar itens.\n",
    "\n",
    "\n",
    "🧪 Exercício 3: Manipulando listas\n",
    "\n",
    "Enunciado:\n",
    "\n",
    "Crie uma lista chamada vendas com os valores inteiros: 1200, 950, 1350, 1100, 980.\n",
    "\n",
    "Depois, faça o seguinte:\n",
    "\n",
    "Imprima a lista completa.\n",
    "\n",
    "Imprima o segundo valor da lista.\n",
    "\n",
    "Calcule a soma total das vendas.\n",
    "\n",
    "Calcule a média das vendas.\n",
    "\n",
    "Adicione uma nova venda de valor 1400.\n",
    "\n",
    "Remova o valor mais baixo da lista."
   ]
  },
  {
   "cell_type": "code",
   "execution_count": null,
   "id": "be210b36",
   "metadata": {},
   "outputs": [
    {
     "name": "stdout",
     "output_type": "stream",
     "text": [
      "Lista de vendas: [1200, 950, 1350, 1100, 980]\n",
      "segundo valor da lista 950\n",
      "Total de vendas: 5580\n",
      "Média de vendas: 1116.0\n",
      "Lista de vendas atualizada: [1200, 950, 1350, 1100, 980, 1400]\n",
      "Lista de vendas após remoção: [1200, 1350, 1100, 980, 1400]\n"
     ]
    }
   ],
   "source": [
    "list_vendas = [1200, 950, 1350, 1100, 980]\n",
    "print('Lista de vendas:', list_vendas)\n",
    "\n",
    "# ✔️ A indexação [1] está correta (lembre: indexação em Python começa em 0).\n",
    "print('Segundo valor da lista:', list_vendas[1])\n",
    "\n",
    "total_vendas = sum(list_vendas) \n",
    "print('Total de vendas:', total_vendas)\n",
    "\n",
    "media_vendas = total_vendas / len(list_vendas)\n",
    "print('Média de vendas:', media_vendas)\n",
    "\n",
    "# 💡 Alternativa comum: list_vendas.append(1400) seria mais direto, mas a sua abordagem está perfeitamente válida.\n",
    "list_vendas = list_vendas + [1400]\n",
    "print('Lista de vendas atualizada:', list_vendas)\n",
    "\n",
    "list_vendas.remove(950)\n",
    "print('Lista de vendas após remoção:', list_vendas)"
   ]
  },
  {
   "cell_type": "code",
   "execution_count": null,
   "id": "e916d077",
   "metadata": {},
   "outputs": [],
   "source": []
  }
 ],
 "metadata": {
  "kernelspec": {
   "display_name": "base",
   "language": "python",
   "name": "python3"
  },
  "language_info": {
   "codemirror_mode": {
    "name": "ipython",
    "version": 3
   },
   "file_extension": ".py",
   "mimetype": "text/x-python",
   "name": "python",
   "nbconvert_exporter": "python",
   "pygments_lexer": "ipython3",
   "version": "3.13.5"
  }
 },
 "nbformat": 4,
 "nbformat_minor": 5
}
