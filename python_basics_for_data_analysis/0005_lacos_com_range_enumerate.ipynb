{
 "cells": [
  {
   "cell_type": "markdown",
   "id": "4b377850",
   "metadata": {},
   "source": [
    "🔁 Tópico 5: Laços com range() e enumerate()\n",
    "\n",
    "📌 Por que isso é importante?\n",
    "\n",
    "Ao processar dados linha a linha (como em arquivos CSV ou listas de registros), você muitas vezes precisa acessar os valores e seus índices. Isso é essencial para aplicar lógica condicional, mapear categorias, criar novas colunas, ou rastrear a posição de um dado específico.\n",
    "\n",
    "🧠 Conceitos-Chave (para sua referência)\n",
    "\n",
    "range(n): gera uma sequência de números de 0 até n-1.\n",
    "\n",
    "enumerate(lista): itera sobre uma lista e retorna índice e valor."
   ]
  },
  {
   "cell_type": "code",
   "execution_count": 5,
   "id": "8495e7eb",
   "metadata": {},
   "outputs": [
    {
     "name": "stdout",
     "output_type": "stream",
     "text": [
      "Índice 0: Pedro\n",
      "Índice 1: Maria\n",
      "Índice 2: João\n"
     ]
    }
   ],
   "source": [
    "nomes = ['Pedro', 'Maria', 'João']\n",
    "for i, nome in enumerate(nomes):\n",
    "    print(f'Índice {i}: {nome}')"
   ]
  },
  {
   "cell_type": "markdown",
   "id": "9a66d1b7",
   "metadata": {},
   "source": [
    "🧪 Exercício 5: Iteração com índice\n",
    "\n",
    "Enunciado:\n",
    "\n",
    "Você tem uma lista chamada faturamento_semanal com os valores:\n",
    "\n",
    "[1050, 980, 1230, 1020, 880, 1340, 1190]\n",
    "\n",
    "Percorra a lista utilizando enumerate().\n",
    "\n",
    "Para cada item, imprima uma frase no seguinte formato:\n",
    "\n",
    "'Dia X: R$ Y', onde X é o número do dia (começando em 1) e Y é o valor do faturamento.\n",
    "\n",
    "Depois, identifique e imprima o dia com o maior faturamento e o valor correspondente.\n",
    "\n"
   ]
  },
  {
   "cell_type": "code",
   "execution_count": 8,
   "id": "6a1a0ae6",
   "metadata": {},
   "outputs": [
    {
     "name": "stdout",
     "output_type": "stream",
     "text": [
      "Faturamento semanal: [1050, 980, 1230, 1020, 880, 1340, 1190]\n",
      "Dia 1: R$ 1050\n",
      "Dia 2: R$ 980\n",
      "Dia 3: R$ 1230\n",
      "Dia 4: R$ 1020\n",
      "Dia 5: R$ 880\n",
      "Dia 6: R$ 1340\n",
      "Dia 7: R$ 1190\n",
      "Dia maior faturamento: 6 com R$ 1340\n"
     ]
    }
   ],
   "source": [
    "faturamento_semanal = [1050, 980, 1230, 1020, 880, 1340, 1190]\n",
    "print('Faturamento semanal:', faturamento_semanal)\n",
    "\n",
    "for i, valor in enumerate(faturamento_semanal):\n",
    "    print(f'Dia {i + 1}: R$ {valor}')\n",
    "\n",
    "valor_maior = print(f'Dia maior faturamento: {faturamento_semanal.index(max(faturamento_semanal)) + 1} com R$ {max(faturamento_semanal)}')\n",
    "  "
   ]
  },
  {
   "cell_type": "code",
   "execution_count": 9,
   "id": "70f548c2",
   "metadata": {},
   "outputs": [
    {
     "name": "stdout",
     "output_type": "stream",
     "text": [
      "Dia maior faturamento: 6 com R$ 1340\n"
     ]
    }
   ],
   "source": [
    "# recomendadao do chatgpt\n",
    "\n",
    "# ⚠️ Aqui o resultado está certo, mas há um pequeno erro de lógica técnica:\n",
    "\n",
    "# A variável valor_maior não está armazenando o valor — ela está recebendo o retorno da função print(), que é sempre None.\n",
    "\n",
    "# Se quiser armazenar o valor para uso posterior (ex: em uma comparação ou relatório), você deve separar em duas etapas:\n",
    "\n",
    "maior_valor = max(faturamento_semanal)\n",
    "indice_maior = faturamento_semanal.index(maior_valor) + 1\n",
    "\n",
    "print(f'Dia maior faturamento: {indice_maior} com R$ {maior_valor}')\n"
   ]
  },
  {
   "cell_type": "code",
   "execution_count": 11,
   "id": "c144e016",
   "metadata": {},
   "outputs": [
    {
     "name": "stdout",
     "output_type": "stream",
     "text": [
      "Dia maior faturamento: 6 com R$ 1340\n"
     ]
    }
   ],
   "source": [
    "# Perfeito, Pedro — vamos destrinchar com calma esse trecho. Entender max() e .index() juntos é essencial para trabalhar com listas numéricas.\n",
    "\n",
    "# 🧠 Entendendo passo a passo:\n",
    "# Código original:\n",
    "\n",
    "valor_maior = print(f'Dia maior faturamento: {faturamento_semanal.index(max(faturamento_semanal)) + 1} com R$ {max(faturamento_semanal)}')\n",
    "\n",
    "# Esse código está fazendo duas coisas dentro de um print() só:\n",
    "\n",
    "# Encontra o maior valor da lista com max(...)\n",
    "\n",
    "# Encontra o índice (posição) desse valor com .index(...)"
   ]
  },
  {
   "cell_type": "code",
   "execution_count": 13,
   "id": "c77097c3",
   "metadata": {},
   "outputs": [
    {
     "name": "stdout",
     "output_type": "stream",
     "text": [
      "6\n"
     ]
    }
   ],
   "source": [
    "# 🔍 Método .index()\n",
    "\n",
    "# faturamento_semanal.index(1340)\n",
    "\n",
    "# Isso retorna o índice da primeira ocorrência do número 1340 na lista.\n",
    "# Como a lista é zero-based (começa do 0), o valor 1340 está na posição 5.\n",
    "\n",
    "# Como os dias são 1-based (começam do 1), você soma 1:\n",
    "\n",
    "dia_maior = faturamento_semanal.index(1340) + 1\n",
    "print(dia_maior)\n",
    "# Resultado: 6\n"
   ]
  },
  {
   "cell_type": "code",
   "execution_count": 14,
   "id": "51696dcb",
   "metadata": {},
   "outputs": [],
   "source": [
    "# 🧪 Mini Exercício: Encontrar o menor e maior valor e suas posições\n",
    "# Dada a lista:\n",
    "\n",
    "temperaturas = [23, 19, 25, 21, 30, 18, 22]\n",
    "\n",
    "# Faça o seguinte:\n",
    "\n",
    "# Encontre o menor valor da lista e imprima o valor junto com sua posição (índice + 1).\n",
    "\n",
    "# Encontre o maior valor da lista e imprima o valor junto com sua posição (índice + 1).\n",
    "\n",
    "# Formato da saída esperado:\n",
    "\n",
    "# Menor temperatura: 18 no dia 6\n",
    "# Maior temperatura: 30 no dia 5\n",
    "\n"
   ]
  },
  {
   "cell_type": "code",
   "execution_count": 17,
   "id": "3f4a1eec",
   "metadata": {},
   "outputs": [
    {
     "name": "stdout",
     "output_type": "stream",
     "text": [
      "Menor temperatura: 18 no dia 6\n",
      "Maior temperatura: 30 no dia 5\n"
     ]
    }
   ],
   "source": [
    "# usando como exemplo para resolucao:\n",
    "    # maior_valor = max(faturamento_semanal)\n",
    "    # indice_maior = faturamento_semanal.index(maior_valor) + 1\n",
    "    # print(f'Dia maior faturamento: {indice_maior} com R$ {maior_valor}')\n",
    "\n",
    "menor_temperatura = min(temperaturas)\n",
    "indice_menor_temperatura = temperaturas.index(menor_temperatura)+1\n",
    "print(f'Menor temperatura: {menor_temperatura} no dia {indice_menor_temperatura}')\n",
    "\n",
    "maior_temperatura = max(temperaturas)\n",
    "indice_maior_temperatura = temperaturas.index(maior_temperatura)+1\n",
    "print(f'Maior temperatura: {maior_temperatura} no dia {indice_maior_temperatura}')"
   ]
  },
  {
   "cell_type": "code",
   "execution_count": null,
   "id": "1f248557",
   "metadata": {},
   "outputs": [],
   "source": []
  }
 ],
 "metadata": {
  "kernelspec": {
   "display_name": "base",
   "language": "python",
   "name": "python3"
  },
  "language_info": {
   "codemirror_mode": {
    "name": "ipython",
    "version": 3
   },
   "file_extension": ".py",
   "mimetype": "text/x-python",
   "name": "python",
   "nbconvert_exporter": "python",
   "pygments_lexer": "ipython3",
   "version": "3.13.5"
  }
 },
 "nbformat": 4,
 "nbformat_minor": 5
}
