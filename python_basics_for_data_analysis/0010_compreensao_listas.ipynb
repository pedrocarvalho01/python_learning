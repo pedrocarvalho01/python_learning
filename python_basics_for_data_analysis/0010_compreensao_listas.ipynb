{
 "cells": [
  {
   "cell_type": "markdown",
   "id": "01db209d",
   "metadata": {},
   "source": [
    "Ótimo. Vamos avançar para o próximo tópico:\n",
    "\n",
    "---\n",
    "\n",
    "# 🗂️ 9. **List Comprehension (Compreensão de Listas)**\n",
    "\n",
    "> Sintaxe concisa para criar listas a partir de iteráveis, com ou sem filtros condicionais. Muito usada em análises e transformações de dados.\n",
    "\n",
    "---\n",
    "\n",
    "## ✅ 1. **Sintaxe Básica**\n",
    "\n",
    "```python\n",
    "[nova_expressao for item in iteravel]\n",
    "```\n",
    "\n",
    "### 📌 Exemplo:\n",
    "\n",
    "Multiplicando todos os valores por 2:\n",
    "\n",
    "```python\n",
    "valores = [1, 2, 3, 4]\n",
    "dobrados = [v * 2 for v in valores]\n",
    "print(dobrados)  # [2, 4, 6, 8]\n",
    "```\n",
    "\n",
    "---\n",
    "\n",
    "## 🔍 2. **Com Filtro Condicional (if)**\n",
    "\n",
    "```python\n",
    "[expressao for item in iteravel if condicao]\n",
    "```\n",
    "\n",
    "### 📌 Exemplo:\n",
    "\n",
    "Selecionando apenas números pares:\n",
    "\n",
    "```python\n",
    "valores = [1, 2, 3, 4, 5]\n",
    "pares = [v for v in valores if v % 2 == 0]\n",
    "print(pares)  # [2, 4]\n",
    "```"
   ]
  },
  {
   "cell_type": "code",
   "execution_count": 1,
   "id": "37880a9b",
   "metadata": {},
   "outputs": [
    {
     "name": "stdout",
     "output_type": "stream",
     "text": [
      "Notas acima de 7: [7.5, 8.0, 9.1]\n"
     ]
    }
   ],
   "source": [
    "# 🧪 Exercício 1:\n",
    "# Dada a lista notas = [7.5, 8.0, 6.3, 9.1, 5.0], crie uma nova lista apenas com as notas acima de 7.\n",
    "\n",
    "notas = [7.5, 8.0, 6.3, 9.1, 5.0]\n",
    "\n",
    "notas_acima_de_7 = [n for n in notas if n > 7]\n",
    "print(\"Notas acima de 7:\", notas_acima_de_7)"
   ]
  },
  {
   "cell_type": "code",
   "execution_count": null,
   "id": "075882bd",
   "metadata": {},
   "outputs": [
    {
     "name": "stdout",
     "output_type": "stream",
     "text": [
      "Múltiplos de 3: [3, 6, 9, 12, 15, 18]\n",
      "Quadrados dos múltiplos de 3: [9, 36, 81, 144, 225, 324]\n"
     ]
    }
   ],
   "source": [
    "# 🧪 Exercício 2:\n",
    "# Crie uma lista com os quadrados de todos os múltiplos de 3 entre 1 e 20.\n",
    "# mostre os numeros e seus quadrados.\n",
    "\n",
    "multiplos_de_3 = [n for n in range(1, 21) if n % 3 == 0]\n",
    "quadrados = [n**2 for n in multiplos_de_3]\n",
    "\n",
    "print(\"Múltiplos de 3:\", multiplos_de_3)\n",
    "print(\"Quadrados dos múltiplos de 3:\", quadrados)\n"
   ]
  },
  {
   "cell_type": "code",
   "execution_count": 4,
   "id": "b50cd699",
   "metadata": {},
   "outputs": [
    {
     "name": "stdout",
     "output_type": "stream",
     "text": [
      "Lista combinada: ['Pedro - Analista', 'Ana - Gerente', 'João - Diretor']\n"
     ]
    }
   ],
   "source": [
    "# 🧪 Exercício 3:\n",
    "# Dadas duas listas:\n",
    "\n",
    "# nomes = [\"Pedro\", \"Ana\", \"João\"]\n",
    "# cargos = [\"Analista\", \"Gerente\", \"Diretor\"]\n",
    "\n",
    "# Use list comprehension + zip() para gerar a lista:\n",
    "\n",
    "# [\"Pedro - Analista\", \"Ana - Gerente\", \"João - Diretor\"]\n",
    "\n",
    "nomes = [\"Pedro\", \"Ana\", \"João\"]\n",
    "cargos = [\"Analista\", \"Gerente\", \"Diretor\"]\n",
    "\n",
    "combinados = [f\"{nome} - {cargo}\" for nome, cargo in zip(nomes, cargos)]\n",
    "print(\"Lista combinada:\", combinados)"
   ]
  },
  {
   "cell_type": "code",
   "execution_count": null,
   "id": "95783920",
   "metadata": {},
   "outputs": [],
   "source": []
  }
 ],
 "metadata": {
  "kernelspec": {
   "display_name": "base",
   "language": "python",
   "name": "python3"
  },
  "language_info": {
   "codemirror_mode": {
    "name": "ipython",
    "version": 3
   },
   "file_extension": ".py",
   "mimetype": "text/x-python",
   "name": "python",
   "nbconvert_exporter": "python",
   "pygments_lexer": "ipython3",
   "version": "3.13.5"
  }
 },
 "nbformat": 4,
 "nbformat_minor": 5
}
