{
 "cells": [
  {
   "cell_type": "markdown",
   "id": "495d1d2f",
   "metadata": {},
   "source": [
    "🧮 Tópico 2: Operações com Dados (Números e Textos)\n",
    "\n",
    "📌 Por que isso é importante?\n",
    "\n",
    "Para limpar, transformar ou criar colunas derivadas a partir de um CSV, você precisa dominar as operações básicas com números e textos \n",
    "— como somar valores, calcular médias, concatenar strings ou formatar campos."
   ]
  },
  {
   "cell_type": "code",
   "execution_count": 1,
   "id": "2ecb0a19",
   "metadata": {},
   "outputs": [],
   "source": [
    "a = 10\n",
    "b = 3\n",
    "\n",
    "soma = a + b          # 13\n",
    "subtracao = a - b     # 7\n",
    "multiplicacao = a * b # 30\n",
    "divisao = a / b       # 3.333...\n",
    "resto = a % b         # 1\n",
    "potencia = a ** b     # 1000\n"
   ]
  },
  {
   "cell_type": "code",
   "execution_count": 2,
   "id": "b163c319",
   "metadata": {},
   "outputs": [],
   "source": [
    "nome = 'Pedro'\n",
    "sobrenome = 'Silva'\n",
    "\n",
    "nome_completo = nome + ' ' + sobrenome   # 'Pedro Silva'\n",
    "tamanho = len(nome_completo)             # 11\n",
    "maiusculo = nome_completo.upper()        # 'PEDRO SILVA'\n",
    "minusculo = nome_completo.lower()        # 'pedro silva'\n"
   ]
  },
  {
   "cell_type": "markdown",
   "id": "9981451f",
   "metadata": {},
   "source": [
    "🧪 Exercício 2: Cálculo e manipulação simples\n",
    "\n",
    "Execute o código abaixo:"
   ]
  },
  {
   "cell_type": "code",
   "execution_count": 3,
   "id": "f657dbf1",
   "metadata": {},
   "outputs": [
    {
     "name": "stdout",
     "output_type": "stream",
     "text": [
      "Salário final completo: 3500\n",
      "Salário proporcional ao mês: 3181.8181818181815\n",
      "\n",
      "Descrição completa: Pedro atua como Analista de Dados.\n",
      "Descrição em maiúsculas: PEDRO ATUA COMO ANALISTA DE DADOS.\n",
      "Tamanho da descrição: 34\n"
     ]
    }
   ],
   "source": [
    "# Parte 1 - Operações numéricas\n",
    "salario_base = 3000\n",
    "bonus = 500\n",
    "dias_trabalhados = 20\n",
    "dias_mes = 22\n",
    "\n",
    "salario_final = salario_base + bonus\n",
    "proporcao_dias = dias_trabalhados / dias_mes\n",
    "salario_proporcional = salario_final * proporcao_dias\n",
    "\n",
    "print('Salário final completo:', salario_final)\n",
    "print('Salário proporcional ao mês:', salario_proporcional)\n",
    "\n",
    "# Parte 2 - Manipulação de strings\n",
    "nome = 'Pedro'\n",
    "cargo = 'Analista de Dados'\n",
    "\n",
    "descricao = nome + ' atua como ' + cargo + '.'\n",
    "print('\\nDescrição completa:', descricao)\n",
    "print('Descrição em maiúsculas:', descricao.upper())\n",
    "print('Tamanho da descrição:', len(descricao))\n"
   ]
  },
  {
   "cell_type": "code",
   "execution_count": 4,
   "id": "9b7c0600",
   "metadata": {},
   "outputs": [
    {
     "name": "stdout",
     "output_type": "stream",
     "text": [
      "Salário proporcional arredondado: 3181.82\n"
     ]
    }
   ],
   "source": [
    "round_salario = round(salario_proporcional, 2)\n",
    "print('Salário proporcional arredondado:', round_salario)"
   ]
  }
 ],
 "metadata": {
  "kernelspec": {
   "display_name": "base",
   "language": "python",
   "name": "python3"
  },
  "language_info": {
   "codemirror_mode": {
    "name": "ipython",
    "version": 3
   },
   "file_extension": ".py",
   "mimetype": "text/x-python",
   "name": "python",
   "nbconvert_exporter": "python",
   "pygments_lexer": "ipython3",
   "version": "3.13.5"
  }
 },
 "nbformat": 4,
 "nbformat_minor": 5
}
