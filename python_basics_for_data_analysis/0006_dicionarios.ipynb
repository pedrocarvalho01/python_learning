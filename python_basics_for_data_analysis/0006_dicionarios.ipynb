{
 "cells": [
  {
   "cell_type": "markdown",
   "id": "45a143a4",
   "metadata": {},
   "source": [
    "🗂️ Tópico 6: Dicionários (dict)\n",
    "\n",
    "📌 Por que isso é importante?\n",
    "\n",
    "Dicionários são usados para representar registros de dados estruturados, como uma linha de uma tabela, um JSON de uma API, ou um mapeamento entre chaves e valores. São essenciais para construir modelos dimensionais em memória, transformar dados e, futuramente, trabalhar com pandas.\n",
    "\n",
    "🧠 Conceitos-Chave (para sua referência)\n",
    "\n",
    "Um dict é uma coleção de pares chave → valor."
   ]
  },
  {
   "cell_type": "code",
   "execution_count": 2,
   "id": "28e05c83",
   "metadata": {},
   "outputs": [],
   "source": [
    "produto = {\n",
    "    'id': 101,\n",
    "    'nome': 'Notebook',\n",
    "    'preco': 3500,\n",
    "    'em_estoque': True\n",
    "}"
   ]
  },
  {
   "cell_type": "markdown",
   "id": "7fc430d7",
   "metadata": {},
   "source": [
    "🧪 Exercício 6: Registro de funcionário\n",
    "\n",
    "Enunciado:\n",
    "\n",
    "Crie um dicionário chamado funcionario com as seguintes chaves e valores:\n",
    "\n",
    "'nome': 'Lucas'\n",
    "\n",
    "'cargo': 'Analista'\n",
    "\n",
    "'salario': 4800\n",
    "\n",
    "'ativo': True\n",
    "\n",
    "Imprima o nome e cargo no seguinte formato:\n",
    "\n",
    "'Funcionário: Lucas (Cargo: Analista)'\n",
    "\n",
    "Aumente o salário em 10%.\n",
    "\n",
    "Adicione uma nova chave chamada 'departamento' com valor 'Financeiro'.\n",
    "\n",
    "Imprima o dicionário final atualizado."
   ]
  },
  {
   "cell_type": "code",
   "execution_count": 11,
   "id": "bf038608",
   "metadata": {},
   "outputs": [
    {
     "name": "stdout",
     "output_type": "stream",
     "text": [
      "Funcionário: Lucas (Cargo: Analista)\n",
      "Salário atualizado: R$ 5280.0\n",
      "Departamento: Financeiro\n",
      "Dicionário atualizado do funcionário: {'nome': 'Lucas', 'cargo': 'Analista', 'salario': 5280.0, 'ativo': True, 'departamento': 'Financeiro'}\n"
     ]
    }
   ],
   "source": [
    "funcionario = {\n",
    "    'nome': 'Lucas',\n",
    "    'cargo': 'Analista',\n",
    "    'salario': 4800,\n",
    "    'ativo': True,\n",
    "}\n",
    "\n",
    "# imprimindo nome e cargo no seguinte formato: 'Funcionário: Lucas (Cargo: Analista)'\n",
    "print(f'Funcionário: {funcionario[\"nome\"]} (Cargo: {funcionario[\"cargo\"]})')\n",
    "\n",
    "# Aumente o salário em 10%.\n",
    "funcionario['salario'] *= 1.10\n",
    "print(f'Salário atualizado: R$ {funcionario[\"salario\"]}')\n",
    "\n",
    "# Adicione uma nova chave chamada 'departamento' com valor 'Financeiro'.\n",
    "\n",
    "funcionario['departamento'] = 'Financeiro'\n",
    "print(f'Departamento: {funcionario[\"departamento\"]}')\n",
    "\n",
    "# Imprima o dicionário final atualizado.\n",
    "print('Dicionário atualizado do funcionário:', funcionario)\n"
   ]
  },
  {
   "cell_type": "code",
   "execution_count": 15,
   "id": "01b375e7",
   "metadata": {},
   "outputs": [
    {
     "name": "stdout",
     "output_type": "stream",
     "text": [
      "Nome: Lucas\n",
      "Cargo: Analista\n",
      "Salario: 5280.0\n",
      "Ativo: True\n",
      "Departamento: Financeiro\n"
     ]
    }
   ],
   "source": [
    "# sugestao chat gpt\n",
    "\n",
    "# 🔍 Sugestão opcional de melhoria de formatação (apenas estética):\n",
    "# Se quiser uma saída mais visual para o dicionário ao final:\n",
    "\n",
    "for chave, valor in funcionario.items():\n",
    "    print(f'{chave.capitalize()}: {valor}')\n"
   ]
  },
  {
   "cell_type": "code",
   "execution_count": 19,
   "id": "7e07c93d",
   "metadata": {},
   "outputs": [
    {
     "name": "stdout",
     "output_type": "stream",
     "text": [
      "[('nome', 'Lucas'), ('cargo', 'Analista'), ('salario', 4800), ('ativo', True)]\n"
     ]
    }
   ],
   "source": [
    "# 🔑 for chave, valor in funcionario.items():\n",
    "\n",
    "# 📌 O que é funcionario.items()?\n",
    "\n",
    "# Um dicionário em Python (como o seu funcionario) é uma estrutura de pares chave: valor.\n",
    "\n",
    "# O método .items() retorna esses pares como tuplas.\n",
    "\n",
    "funcionario = {\n",
    "    'nome': 'Lucas',\n",
    "    'cargo': 'Analista',\n",
    "    'salario': 4800,\n",
    "    'ativo': True\n",
    "}\n",
    "print(list(funcionario.items()))\n",
    "\n",
    "# saida:\n",
    "# [('nome', 'Lucas'), ('cargo', 'Analista'), ('salario', 4800), ('ativo', True)]"
   ]
  },
  {
   "cell_type": "code",
   "execution_count": 20,
   "id": "b3af2198",
   "metadata": {},
   "outputs": [
    {
     "name": "stdout",
     "output_type": "stream",
     "text": [
      "nome: Lucas\n",
      "cargo: Analista\n",
      "salario: 4800\n",
      "ativo: True\n"
     ]
    }
   ],
   "source": [
    "# 🧠 E como Python sabe que chave é a chave e valor é o valor?\n",
    "# É você quem define os nomes ao desempacotar a tupla (chave, valor) vinda de .items():\n",
    "\n",
    "for chave, valor in funcionario.items():\n",
    "    print(f'{chave}: {valor}')"
   ]
  },
  {
   "cell_type": "code",
   "execution_count": 23,
   "id": "bcba0ae9",
   "metadata": {},
   "outputs": [
    {
     "name": "stdout",
     "output_type": "stream",
     "text": [
      "nome Lucas\n",
      "cargo Analista\n",
      "salario 4800\n",
      "ativo True\n"
     ]
    }
   ],
   "source": [
    "# Funciona exatamente como:\n",
    "\n",
    "for par in funcionario.items():\n",
    "    print(par[0], par[1])\n",
    "\n",
    "# Mas com o desempacotamento, o código fica mais legível.\n",
    "\n",
    "# O importante é que cada tuple retornada por .items() sempre tem dois valores: o primeiro é a chave, o segundo é o valor. \n",
    "# Você só precisa manter essa ordem ao nomear as variáveis.\n"
   ]
  },
  {
   "cell_type": "code",
   "execution_count": null,
   "id": "5a09041f",
   "metadata": {},
   "outputs": [],
   "source": []
  }
 ],
 "metadata": {
  "kernelspec": {
   "display_name": "base",
   "language": "python",
   "name": "python3"
  },
  "language_info": {
   "codemirror_mode": {
    "name": "ipython",
    "version": 3
   },
   "file_extension": ".py",
   "mimetype": "text/x-python",
   "name": "python",
   "nbconvert_exporter": "python",
   "pygments_lexer": "ipython3",
   "version": "3.13.5"
  }
 },
 "nbformat": 4,
 "nbformat_minor": 5
}
