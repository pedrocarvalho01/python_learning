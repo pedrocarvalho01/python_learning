{
 "cells": [
  {
   "cell_type": "markdown",
   "id": "bc2046e7",
   "metadata": {},
   "source": [
    "Perfeito. Vamos começar com o essencial sobre **Funções em Python**, com foco em aplicações úteis para análise de dados.\n",
    "\n",
    "---\n",
    "\n",
    "## 🧠 Tópico: Funções (`def`, `return`, parâmetros)\n",
    "\n",
    "### 📌 Conceito\n",
    "\n",
    "Uma **função** é um bloco de código reutilizável que executa uma tarefa. Ela pode receber dados (parâmetros), processá-los e retornar um resultado.\n",
    "\n",
    "---\n",
    "\n",
    "### ✅ Sintaxe Básica\n",
    "\n",
    "```python\n",
    "def nome_da_funcao(parametro1, parametro2):\n",
    "    # bloco de código\n",
    "    resultado = parametro1 + parametro2\n",
    "    return resultado\n",
    "```"
   ]
  },
  {
   "cell_type": "code",
   "execution_count": 10,
   "id": "c8f7ce36",
   "metadata": {},
   "outputs": [
    {
     "name": "stdout",
     "output_type": "stream",
     "text": [
      "5\n"
     ]
    }
   ],
   "source": [
    "### 📘 Exemplo Prático\n",
    "\n",
    "def somar(a, b):\n",
    "    return a + b\n",
    "\n",
    "print(somar(2, 3))  # Output: 5"
   ]
  },
  {
   "cell_type": "code",
   "execution_count": 11,
   "id": "0cf0e894",
   "metadata": {},
   "outputs": [
    {
     "name": "stdout",
     "output_type": "stream",
     "text": [
      "Olá, Pedro!\n",
      "Olá, Maria!\n"
     ]
    }
   ],
   "source": [
    "### 🧩 Parâmetros Opcionais (com valor padrão)\n",
    "\n",
    "def saudacao(nome=\"Pedro\"):\n",
    "    return f\"Olá, {nome}!\"\n",
    "\n",
    "print(saudacao())          # Output: Olá, Pedro!\n",
    "print(saudacao(\"Maria\"))   # Output: Olá, Maria!"
   ]
  },
  {
   "cell_type": "code",
   "execution_count": 12,
   "id": "1ced8c0e",
   "metadata": {},
   "outputs": [
    {
     "name": "stdout",
     "output_type": "stream",
     "text": [
      "32.0\n",
      "50.0\n",
      "68.0\n",
      "86.0\n"
     ]
    }
   ],
   "source": [
    "### 🔄 Reutilizando lógica com funções\n",
    "\n",
    "def celsius_para_fahrenheit(celsius):\n",
    "    return (celsius * 1.8) + 32\n",
    "\n",
    "temperaturas = [0, 10, 20, 30]\n",
    "for t in temperaturas:\n",
    "    print(celsius_para_fahrenheit(t))"
   ]
  },
  {
   "cell_type": "code",
   "execution_count": 13,
   "id": "cdc12080",
   "metadata": {},
   "outputs": [
    {
     "name": "stdout",
     "output_type": "stream",
     "text": [
      "16\n"
     ]
    }
   ],
   "source": [
    "\n",
    "## 📌 Exercícios Práticos\n",
    "\n",
    "### 🧪 1. Função que calcula o quadrado de um número\n",
    "\n",
    "def quadrado(numero):\n",
    "    return numero ** 2\n",
    "\n",
    "print(quadrado(4))  # Output: 16\n"
   ]
  },
  {
   "cell_type": "code",
   "execution_count": 14,
   "id": "a85ea6fa",
   "metadata": {},
   "outputs": [
    {
     "name": "stdout",
     "output_type": "stream",
     "text": [
      "True\n",
      "False\n"
     ]
    }
   ],
   "source": [
    "### 🧪 2. Função para verificar se um número é par\n",
    "\n",
    "def eh_par(numero):\n",
    "    return numero % 2 == 0\n",
    "\n",
    "print(eh_par(4))  # True\n",
    "print(eh_par(5))  # False"
   ]
  },
  {
   "cell_type": "code",
   "execution_count": 15,
   "id": "45c5a1cd",
   "metadata": {},
   "outputs": [
    {
     "name": "stdout",
     "output_type": "stream",
     "text": [
      "22.86\n"
     ]
    }
   ],
   "source": [
    "### 🧪 3. Função para calcular o IMC\n",
    "\n",
    "def calcular_imc(peso, altura):\n",
    "    imc = peso / (altura ** 2)\n",
    "    return round(imc, 2)\n",
    "\n",
    "print(calcular_imc(70, 1.75))  # Output: 22.86"
   ]
  },
  {
   "cell_type": "markdown",
   "id": "cb6437a6",
   "metadata": {},
   "source": [
    "## Exercícios de Prática"
   ]
  },
  {
   "cell_type": "code",
   "execution_count": 17,
   "id": "351c5976",
   "metadata": {},
   "outputs": [
    {
     "name": "stdout",
     "output_type": "stream",
     "text": [
      "9\n",
      "25\n"
     ]
    }
   ],
   "source": [
    "# 🧪 Exercício 1: Criar uma função que retorna o quadrado de um número\n",
    "# 🎯 Instruções\n",
    "# Crie uma função chamada quadrado que:\n",
    "\n",
    "# Recebe um número como parâmetro\n",
    "\n",
    "# Retorna o quadrado desse número (número elevado ao quadrado)\n",
    "\n",
    "# 💡 Exemplo esperado:\n",
    "\n",
    "# quadrado(3) → 9  \n",
    "# quadrado(5) → 25\n",
    "\n",
    "def quadrado(numero):\n",
    "    return numero ** 2\n",
    "\n",
    "print(quadrado(3))\n",
    "print(quadrado(5))  \n"
   ]
  },
  {
   "cell_type": "code",
   "execution_count": null,
   "id": "c3ef357a",
   "metadata": {},
   "outputs": [
    {
     "name": "stdout",
     "output_type": "stream",
     "text": [
      "True\n",
      "False\n"
     ]
    }
   ],
   "source": [
    "# 🧪 Exercício 2: Verificar número par\n",
    "# Crie uma função chamada eh_par que recebe um número inteiro e retorna True se ele for par e False se for ímpar.\n",
    "\n",
    "# print(eh_par(4))  # True\n",
    "# print(eh_par(7))  # False\n",
    "\n",
    "# 🧪 Exercício 2: Verificar número par\n",
    "# Crie uma função chamada eh_par que recebe um número inteiro e retorna True se ele for par e False se for ímpar.\n",
    "\n",
    "# print(eh_par(4))  # True\n",
    "# print(eh_par(7))  # False\n",
    "\n",
    "def verificar_par(numero):\n",
    "    return numero % 2 == 0\n",
    "\n",
    "print(verificar_par(4))\n",
    "print(verificar_par(7))"
   ]
  },
  {
   "cell_type": "code",
   "execution_count": null,
   "id": "64232bd5",
   "metadata": {},
   "outputs": [
    {
     "name": "stdout",
     "output_type": "stream",
     "text": [
      "120\n",
      "1\n",
      "24\n"
     ]
    }
   ],
   "source": [
    "# 🧪 Exercício 3: Calcular fatorial\n",
    "# Crie uma função chamada fatorial que receba um número inteiro positivo e retorne o seu fatorial \n",
    "# (ex: 5! = 5 × 4 × 3 × 2 × 1 = 120).\n",
    "\n",
    "# Dica: Use um laço de repetição (for).\n",
    "\n",
    "def fatorial(n):\n",
    "    for i in range(1, n):\n",
    "        n *= i\n",
    "    return n\n",
    "\n",
    "print(fatorial(5))  # Output: 120\n",
    "print(fatorial(1))  # Output: 720\n",
    "print(fatorial(4))  # Output: 720"
   ]
  },
  {
   "cell_type": "markdown",
   "id": "8450f1b0",
   "metadata": {},
   "source": [
    "Excelente pergunta, Pedro — sua dúvida é importante e mostra atenção ao raciocínio lógico, não apenas à codificação mecânica. Vamos por partes:\n",
    "\n",
    "---\n",
    "\n",
    "## ✅ Análise da Sua Solução\n",
    "\n",
    "```python\n",
    "def fatorial(n):\n",
    "    for i in range(1, n):\n",
    "        n *= i\n",
    "    return n\n",
    "```\n",
    "\n",
    "Essa função retorna o valor correto para `fatorial(5)` por coincidência, mas está incorreta em termos lógicos. Por exemplo:\n",
    "\n",
    "```python\n",
    "print(fatorial(1))  # Esperado: 1 — Resultado: 1 (OK)\n",
    "print(fatorial(2))  # Esperado: 2 — Resultado: 2 (OK)\n",
    "print(fatorial(3))  # Esperado: 6 — Resultado: 6 (OK)\n",
    "print(fatorial(4))  # Esperado: 24 — Resultado: 96 (ERRADO)\n",
    "```\n",
    "\n",
    "O erro acontece porque você está **modificando a variável `n` dentro do loop**, o que afeta o próprio limite da multiplicação. Em vez disso, devemos separar o **acumulador** do parâmetro de entrada.\n",
    "\n",
    "---\n",
    "\n",
    "## 💡 Correção recomendada\n",
    "\n",
    "```python\n",
    "def fatorial(n):\n",
    "    resultado = 1\n",
    "    for i in range(1, n + 1):\n",
    "        resultado *= i\n",
    "    return resultado\n",
    "```\n",
    "\n",
    "---\n",
    "\n",
    "## 🤔 Mas por que usar `range(1, n + 1)`?\n",
    "\n",
    "Porque você precisa multiplicar **todos os números inteiros positivos de 1 até `n`**, inclusive o próprio `n`.\n",
    "Exemplo: para `n = 5`, queremos `1 × 2 × 3 × 4 × 5`\n",
    "\n",
    "* `range(1, n + 1)` gera exatamente isso.\n",
    "* `range(1, n)` vai até `n - 1`, ou seja, ignora o último número.\n",
    "\n",
    "---\n",
    "\n",
    "## 📘 Como saber quando usar `range()`?\n",
    "\n",
    "Você **usa `range()` sempre que quiser repetir algo com contagem**:\n",
    "\n",
    "* `range(n)` → de 0 até n-1\n",
    "* `range(1, n+1)` → de 1 até n (caso comum em fatorial, somatórios etc.)\n",
    "* `range(start, stop, step)` → para casos com saltos\n",
    "\n",
    "---\n",
    "\n",
    "## ✅ Resumo visual\n",
    "\n",
    "| Objetivo                      | Código           | Exemplo resultado |\n",
    "| ----------------------------- | ---------------- | ----------------- |\n",
    "| De 0 até 4                    | `range(5)`       | \\[0, 1, 2, 3, 4]  |\n",
    "| De 1 até 5 (caso do fatorial) | `range(1, 6)`    | \\[1, 2, 3, 4, 5]  |\n",
    "| De 1 até 5 com passo 2        | `range(1, 6, 2)` | \\[1, 3, 5]        |\n",
    "\n",
    "---\n",
    "\n",
    "Quer que eu te envie agora o **Exercício 4**?\n"
   ]
  },
  {
   "cell_type": "code",
   "execution_count": 23,
   "id": "2fbd5023",
   "metadata": {},
   "outputs": [
    {
     "name": "stdout",
     "output_type": "stream",
     "text": [
      "120\n",
      "1\n",
      "24\n"
     ]
    }
   ],
   "source": [
    "# testando sugestao de solucao do chat gpt\n",
    "\n",
    "def fatorial(n):\n",
    "    resultado = 1\n",
    "    for i in range(1, n + 1):\n",
    "        resultado *= i\n",
    "    return resultado\n",
    "\n",
    "print(fatorial(5))  # Output: 120\n",
    "print(fatorial(1))  # Output: 1\n",
    "print(fatorial(4))  # Output: 24\n"
   ]
  },
  {
   "cell_type": "code",
   "execution_count": null,
   "id": "d68421b9",
   "metadata": {},
   "outputs": [
    {
     "name": "stdout",
     "output_type": "stream",
     "text": [
      "[11, 13, 17, 19]\n"
     ]
    }
   ],
   "source": [
    "# 🧪 Exercício 4: Números primos em um intervalo\n",
    "# 📌 Objetivo: Criar uma função que retorne todos os números primos dentro de um intervalo fornecido pelo usuário.\n",
    "\n",
    "# Um número primo é aquele que só é divisível por 1 e por ele mesmo (ex: 2, 3, 5, 7, 11...).\n",
    "\n",
    "# ✅ Instruções:\n",
    "# Crie uma função chamada numeros_primos que receba dois inteiros: inicio e fim.\n",
    "\n",
    "# A função deve:\n",
    "\n",
    "# Iterar pelos números no intervalo de inicio até fim (inclusive).\n",
    "\n",
    "# Verificar se cada número é primo.\n",
    "\n",
    "# Retornar uma lista com todos os números primos encontrados.\n",
    "\n",
    "# 💡 Dica:\n",
    "# Você pode criar uma função auxiliar eh_primo(n) que retorna True se n for primo, e False caso contrário.\n",
    "\n",
    "# 🧪 Exemplo:\n",
    "\n",
    "# print(numeros_primos(10, 20))\n",
    "# # Saída esperada: [11, 13, 17, 19]\n",
    "\n",
    "\n",
    "\n"
   ]
  },
  {
   "cell_type": "code",
   "execution_count": 29,
   "id": "07c1bef8",
   "metadata": {},
   "outputs": [
    {
     "name": "stdout",
     "output_type": "stream",
     "text": [
      "[11, 13, 17, 19]\n"
     ]
    }
   ],
   "source": [
    "# solucao do copilot\n",
    "\n",
    "def numeros_primos(inicio, fim):\n",
    "    def eh_primo(n):\n",
    "        if n <= 1:\n",
    "            return False\n",
    "        for i in range(2, int(n**0.5) + 1):\n",
    "            if n % i == 0:\n",
    "                return False\n",
    "        return True\n",
    "    primos = []\n",
    "    for num in range(inicio, fim + 1):\n",
    "        if eh_primo(num):\n",
    "            primos.append(num)\n",
    "    return primos\n",
    "print(numeros_primos(10, 20))  # Saída esperada: [11, 13, 17, 19]"
   ]
  },
  {
   "cell_type": "code",
   "execution_count": 32,
   "id": "7f3ee75b",
   "metadata": {},
   "outputs": [
    {
     "name": "stdout",
     "output_type": "stream",
     "text": [
      "[11, 13, 17, 19]\n"
     ]
    }
   ],
   "source": [
    "# solucao chat gpt didatica\n",
    "\n",
    "def numeros_primos(inicio, fim):\n",
    "    primos = []  # Lista onde vamos guardar os números primos\n",
    "\n",
    "    # Vamos testar todos os números de 'inicio' até 'fim'\n",
    "    for atual in range(inicio, fim + 1):\n",
    "\n",
    "        if atual > 1:  # Números menores ou iguais a 1 não são primos\n",
    "\n",
    "            # Vamos assumir que o número é primo\n",
    "            eh_primo = True\n",
    "\n",
    "            # Testar se algum número de 2 até atual-1 divide o número atual\n",
    "            # atual-1 pq se fosse usar atual ia sempre dar resto um, pq seria ele dividido por ele mesmo\n",
    "            for divisor in range(2, atual):\n",
    "                if atual % divisor == 0:\n",
    "                    eh_primo = False  # achou um divisor → não é primo\n",
    "                    break  # não precisa continuar testando\n",
    "\n",
    "            # Se ainda for primo depois dos testes, adiciona na lista\n",
    "            if eh_primo == True:\n",
    "                primos.append(atual)\n",
    "\n",
    "    return primos  # Retorna a lista de primos encontrados\n",
    "\n",
    "print(numeros_primos(10, 20))  # Saída esperada: [11, 13, 17, 19]\n"
   ]
  },
  {
   "cell_type": "code",
   "execution_count": null,
   "id": "66b189b3",
   "metadata": {},
   "outputs": [],
   "source": []
  }
 ],
 "metadata": {
  "kernelspec": {
   "display_name": "base",
   "language": "python",
   "name": "python3"
  },
  "language_info": {
   "codemirror_mode": {
    "name": "ipython",
    "version": 3
   },
   "file_extension": ".py",
   "mimetype": "text/x-python",
   "name": "python",
   "nbconvert_exporter": "python",
   "pygments_lexer": "ipython3",
   "version": "3.13.5"
  }
 },
 "nbformat": 4,
 "nbformat_minor": 5
}
