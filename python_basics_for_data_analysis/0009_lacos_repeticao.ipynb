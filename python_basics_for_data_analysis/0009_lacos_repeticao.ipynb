{
 "cells": [
  {
   "cell_type": "markdown",
   "id": "aa9d81b5",
   "metadata": {},
   "source": [
    "Vamos começar com o tópico **🔁 Laços de Repetição (Loops)**, focando em aplicações úteis para análise de dados. Cobriremos:\n",
    "\n",
    "---\n",
    "\n",
    "## 🔄 1. `for` loop\n",
    "\n",
    "### 📌 Exemplo:\n",
    "\n",
    "Iterando sobre uma lista de valores:\n",
    "\n",
    "```python\n",
    "valores = [10, 20, 30]\n",
    "for valor in valores:\n",
    "    print(f\"O dobro de {valor} é {valor * 2}\")\n",
    "```\n",
    "\n",
    "### 🧪 Exercício:\n",
    "\n",
    "Crie uma lista com os valores `[5, 15, 25, 35]` e imprima apenas os valores maiores que 20.\n",
    "\n",
    "---\n",
    "\n",
    "## 🔁 2. `while` loop\n",
    "\n",
    "### 📌 Exemplo:\n",
    "\n",
    "Executando até uma condição ser falsa:\n",
    "\n",
    "```python\n",
    "contador = 0\n",
    "while contador < 5:\n",
    "    print(f\"Contador vale {contador}\")\n",
    "    contador += 1\n",
    "```\n",
    "\n",
    "### 🧪 Exercício:\n",
    "\n",
    "Crie uma variável iniciando em 50, e use um `while` para subtrair 7 até que o valor seja menor que 10. Imprima o valor a cada passo.\n",
    "\n",
    "---\n",
    "\n",
    "## 🔢 3. `range()`\n",
    "\n",
    "### 📌 Exemplo:\n",
    "\n",
    "Gerando sequências numéricas:\n",
    "\n",
    "```python\n",
    "for i in range(1, 6):\n",
    "    print(f\"Linha {i}\")\n",
    "```\n",
    "\n",
    "### 🧪 Exercício:\n",
    "\n",
    "Use `range()` para somar todos os múltiplos de 3 entre 1 e 30.\n",
    "\n",
    "---\n",
    "\n",
    "## 🔎 4. `enumerate()`\n",
    "\n",
    "### 📌 Exemplo:\n",
    "\n",
    "Iterando com índice e valor:\n",
    "\n",
    "```python\n",
    "nomes = [\"Ana\", \"Bruno\", \"Carlos\"]\n",
    "for i, nome in enumerate(nomes):\n",
    "    print(f\"{i}: {nome}\")\n",
    "```\n",
    "\n",
    "### 🧪 Exercício:\n",
    "\n",
    "Dada a lista `[\"sim\", \"não\", \"sim\", \"talvez\"]`, imprima o índice apenas dos elementos com valor `\"sim\"`.\n",
    "\n",
    "---\n",
    "\n",
    "## 🔗 5. `zip()`\n",
    "\n",
    "### 📌 Exemplo:\n",
    "\n",
    "Unindo duas listas paralelamente:\n",
    "\n",
    "```python\n",
    "nomes = [\"A\", \"B\", \"C\"]\n",
    "notas = [9, 8, 10]\n",
    "for nome, nota in zip(nomes, notas):\n",
    "    print(f\"{nome} tirou {nota}\")\n",
    "```\n",
    "\n",
    "### 🧪 Exercício:\n",
    "\n",
    "Dadas as listas `produtos = [\"camisa\", \"calça\", \"sapato\"]` e `precos = [50, 100, 150]`, gere uma lista de strings formatadas como: `\"Produto: camisa - Preço: 50\"`.\n",
    "\n",
    "---\n",
    "\n",
    "🔚 Quando finalizar os exercícios, me avise que passamos para o próximo tópico. Se quiser mais um exercício em algum ponto, só pedir.\n"
   ]
  },
  {
   "cell_type": "code",
   "execution_count": 2,
   "id": "b34385f5",
   "metadata": {},
   "outputs": [
    {
     "name": "stdout",
     "output_type": "stream",
     "text": [
      "O dobro de 10 é 20\n",
      "O dobro de 20 é 40\n",
      "O dobro de 30 é 60\n"
     ]
    }
   ],
   "source": [
    "# exercicio 1\n",
    "\n",
    "# 🔄 1. for loop\n",
    "# 📌 Exemplo:\n",
    "# Iterando sobre uma lista de valores:\n",
    "\n",
    "valores = [10, 20, 30]\n",
    "for valor in valores:\n",
    "    print(f\"O dobro de {valor} é {valor * 2}\")"
   ]
  },
  {
   "cell_type": "code",
   "execution_count": 3,
   "id": "550f51a3",
   "metadata": {},
   "outputs": [
    {
     "name": "stdout",
     "output_type": "stream",
     "text": [
      "Valor maior que 20: 25\n",
      "Valor maior que 20: 35\n"
     ]
    }
   ],
   "source": [
    "# 🧪 Exercício:\n",
    "# Crie uma lista com os valores [5, 15, 25, 35] e imprima apenas os valores maiores que 20.\n",
    "\n",
    "valores = [5, 15, 25, 35]\n",
    "for valor in valores:\n",
    "    if valor > 20:\n",
    "        print(f\"Valor maior que 20: {valor}\")"
   ]
  },
  {
   "cell_type": "code",
   "execution_count": 4,
   "id": "2044413b",
   "metadata": {},
   "outputs": [
    {
     "name": "stdout",
     "output_type": "stream",
     "text": [
      "Contador vale 0\n",
      "Contador vale 1\n",
      "Contador vale 2\n",
      "Contador vale 3\n",
      "Contador vale 4\n"
     ]
    }
   ],
   "source": [
    "# 🔁 2. while loop\n",
    "# 📌 Exemplo:\n",
    "# Executando até uma condição ser falsa:\n",
    "\n",
    "contador = 0\n",
    "while contador < 5:\n",
    "    print(f\"Contador vale {contador}\")\n",
    "    contador += 1"
   ]
  },
  {
   "cell_type": "code",
   "execution_count": 5,
   "id": "8f29b535",
   "metadata": {},
   "outputs": [
    {
     "name": "stdout",
     "output_type": "stream",
     "text": [
      "Contador vale 50\n",
      "Contador vale 43\n",
      "Contador vale 36\n",
      "Contador vale 29\n",
      "Contador vale 22\n",
      "Contador vale 15\n"
     ]
    }
   ],
   "source": [
    "# 🧪 Exercício:\n",
    "# Crie uma variável iniciando em 50, e use um while para subtrair 7 até que o valor seja menor que 10. \n",
    "# Imprima o valor a cada passo.\n",
    "\n",
    "contador = 50\n",
    "while contador >= 10:\n",
    "    print(f\"Contador vale {contador}\")\n",
    "    contador -= 7\n"
   ]
  },
  {
   "cell_type": "code",
   "execution_count": 6,
   "id": "0d588d47",
   "metadata": {},
   "outputs": [
    {
     "name": "stdout",
     "output_type": "stream",
     "text": [
      "Linha 1\n",
      "Linha 2\n",
      "Linha 3\n",
      "Linha 4\n",
      "Linha 5\n"
     ]
    }
   ],
   "source": [
    "# 🔢 3. range()\n",
    "# 📌 Exemplo:\n",
    "# Gerando sequências numéricas:\n",
    "\n",
    "for i in range(1, 6):\n",
    "    print(f\"Linha {i}\")\n"
   ]
  },
  {
   "cell_type": "code",
   "execution_count": null,
   "id": "ad3a359a",
   "metadata": {},
   "outputs": [
    {
     "name": "stdout",
     "output_type": "stream",
     "text": [
      "Adicionando 3, soma atual: 3\n",
      "Adicionando 6, soma atual: 9\n",
      "Adicionando 9, soma atual: 18\n",
      "Adicionando 12, soma atual: 30\n",
      "Adicionando 15, soma atual: 45\n",
      "Adicionando 18, soma atual: 63\n",
      "Adicionando 21, soma atual: 84\n",
      "Adicionando 24, soma atual: 108\n",
      "Adicionando 27, soma atual: 135\n",
      "Adicionando 30, soma atual: 165\n",
      "Soma total dos múltiplos de 3 entre 1 e 30: 165\n"
     ]
    }
   ],
   "source": [
    "# 🧪 Exercício:\n",
    "# Use range() para somar todos os múltiplos de 3 entre 1 e 30.\n",
    "# imprima os numeros que foram somados e o resultado final.\n",
    "\n",
    "soma = 0 # Inicializa a variável soma\n",
    "for i in range(1, 31): # Itera de 1 a 30\n",
    "    if i % 3 == 0: # Verifica se i é múltiplo de 3\n",
    "        soma += i  # Adiciona i à soma\n",
    "        print(f\"Adicionando {i}, soma atual: {soma}\") # Imprime o número adicionado e a soma atual\n",
    "\n",
    "print(f\"Soma total dos múltiplos de 3 entre 1 e 30: {soma}\") # Resultado final da soma\n"
   ]
  },
  {
   "cell_type": "code",
   "execution_count": 10,
   "id": "b1f529a8",
   "metadata": {},
   "outputs": [
    {
     "name": "stdout",
     "output_type": "stream",
     "text": [
      "0: Ana\n",
      "1: Bruno\n",
      "2: Carlos\n"
     ]
    }
   ],
   "source": [
    "# 🔎 4. enumerate()\n",
    "# 📌 Exemplo:\n",
    "# Iterando com índice e valor:\n",
    "\n",
    "nomes = [\"Ana\", \"Bruno\", \"Carlos\"]\n",
    "for i, nome in enumerate(nomes):\n",
    "    print(f\"{i}: {nome}\")\n",
    "\n"
   ]
  },
  {
   "cell_type": "code",
   "execution_count": 13,
   "id": "e5051b24",
   "metadata": {},
   "outputs": [
    {
     "name": "stdout",
     "output_type": "stream",
     "text": [
      "Índice do valor 'sim': 0\n",
      "Índice do valor 'sim': 2\n"
     ]
    }
   ],
   "source": [
    "# 🧪 Exercício:\n",
    "# Dada a lista [\"sim\", \"não\", \"sim\", \"talvez\"], imprima o índice apenas dos elementos com valor \"sim\".\n",
    "\n",
    "valores =  [\"sim\", \"não\", \"sim\", \"talvez\"]\n",
    "for i, valor in enumerate(valores):\n",
    "    if valor == 'sim':\n",
    "        print(f\"Índice do valor 'sim': {i}\")"
   ]
  },
  {
   "cell_type": "code",
   "execution_count": 14,
   "id": "956d9f3f",
   "metadata": {},
   "outputs": [
    {
     "name": "stdout",
     "output_type": "stream",
     "text": [
      "A tirou 9\n",
      "B tirou 8\n",
      "C tirou 10\n"
     ]
    }
   ],
   "source": [
    "# 🔗 5. zip()\n",
    "# 📌 Exemplo:\n",
    "# Unindo duas listas paralelamente:\n",
    "\n",
    "nomes = [\"A\", \"B\", \"C\"]\n",
    "notas = [9, 8, 10]\n",
    "for nome, nota in zip(nomes, notas):\n",
    "    print(f\"{nome} tirou {nota}\")\n",
    "\n"
   ]
  },
  {
   "cell_type": "code",
   "execution_count": 16,
   "id": "44fb380e",
   "metadata": {},
   "outputs": [
    {
     "name": "stdout",
     "output_type": "stream",
     "text": [
      "Produto: camisa - Preço: 50.00\n",
      "Produto: calça - Preço: 100.00\n",
      "Produto: sapato - Preço: 150.00\n"
     ]
    }
   ],
   "source": [
    "# 🧪 Exercício:\n",
    "# Dadas as listas produtos = [\"camisa\", \"calça\", \"sapato\"] e precos = [50, 100, 150], \n",
    "# gere uma lista de strings formatadas como: \"Produto: camisa - Preço: 50\".\n",
    "\n",
    "produtos = [\"camisa\", \"calça\", \"sapato\"]\n",
    "precos = [50, 100, 150]\n",
    "\n",
    "for produto, preco in zip(produtos, precos):\n",
    "    print(f'Produto: {produto} - Preço: {preco:.2f}')  # Formata o preço com duas casas decimais"
   ]
  },
  {
   "cell_type": "code",
   "execution_count": null,
   "id": "25f58c24",
   "metadata": {},
   "outputs": [],
   "source": []
  }
 ],
 "metadata": {
  "kernelspec": {
   "display_name": "base",
   "language": "python",
   "name": "python3"
  },
  "language_info": {
   "codemirror_mode": {
    "name": "ipython",
    "version": 3
   },
   "file_extension": ".py",
   "mimetype": "text/x-python",
   "name": "python",
   "nbconvert_exporter": "python",
   "pygments_lexer": "ipython3",
   "version": "3.13.5"
  }
 },
 "nbformat": 4,
 "nbformat_minor": 5
}
