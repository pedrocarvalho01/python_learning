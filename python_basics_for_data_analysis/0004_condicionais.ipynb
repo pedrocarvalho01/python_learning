{
 "cells": [
  {
   "cell_type": "markdown",
   "id": "522fdc7d",
   "metadata": {},
   "source": [
    "🧩 Tópico 4: Condicionais (if, else, elif)\n",
    "\n",
    "📌 Por que isso é importante?\n",
    "\n",
    "Condicionais permitem tomar decisões com base em regras. São usados para classificar registros, tratar valores inválidos, aplicar regras de negócio, segmentar dados ou definir categorias, algo que você já faz no Power Query e SQL com if, case when, etc.\n",
    "\n",
    "🧠 Conceitos-Chave (resumo para consulta)\n",
    "\n",
    "if: executa um bloco se a condição for verdadeira\n",
    "\n",
    "else: executa se nenhuma condição anterior for verdadeira\n",
    "\n",
    "elif: condição intermediária (opcional)"
   ]
  },
  {
   "cell_type": "code",
   "execution_count": 1,
   "id": "4d4f230a",
   "metadata": {},
   "outputs": [
    {
     "name": "stdout",
     "output_type": "stream",
     "text": [
      "Venda alta\n"
     ]
    }
   ],
   "source": [
    "venda = 1200\n",
    "\n",
    "if venda > 1000:\n",
    "    print('Venda alta')\n",
    "elif venda >= 800:\n",
    "    print('Venda média')\n",
    "else:\n",
    "    print('Venda baixa')\n"
   ]
  },
  {
   "cell_type": "markdown",
   "id": "fad3094f",
   "metadata": {},
   "source": [
    "🧪 Exercício 4: Classificação de vendas\n",
    "Enunciado:\n",
    "\n",
    "Dada uma lista de valores chamada valores_vendas com os seguintes números:\n",
    "\n",
    "[450, 820, 1500, 970, 2000, 700]\n",
    "\n",
    "Percorra a lista usando um for.\n",
    "\n",
    "Para cada valor, classifique a venda como:\n",
    "\n",
    "'Alta' se for maior que 1000\n",
    "\n",
    "'Média' se estiver entre 800 e 1000 (inclusive)\n",
    "\n",
    "'Baixa' se for menor que 800\n",
    "\n",
    "Imprima o valor da venda e sua classificação."
   ]
  },
  {
   "cell_type": "code",
   "execution_count": 4,
   "id": "0be40ea3",
   "metadata": {},
   "outputs": [
    {
     "name": "stdout",
     "output_type": "stream",
     "text": [
      "Lista de valores de vendas: [450, 820, 1500, 970, 2000, 700]\n",
      "450: Venda baixa\n",
      "820: Venda média\n",
      "1500: Venda alta\n",
      "970: Venda média\n",
      "2000: Venda alta\n",
      "700: Venda baixa\n"
     ]
    }
   ],
   "source": [
    "valores_vendas = [450, 820, 1500, 970, 2000, 700]\n",
    "print('Lista de valores de vendas:', valores_vendas)\n",
    "\n",
    "# percorrer lista usando for, para cada valor classificar como alta, média ou baixa\n",
    "\n",
    "for valor in valores_vendas:\n",
    "    if valor > 1000: print(f'{valor}: Venda alta')\n",
    "    elif valor >= 800: print(f'{valor}: Venda média')\n",
    "    else: print(f'{valor}: Venda baixa')"
   ]
  },
  {
   "cell_type": "code",
   "execution_count": 5,
   "id": "bcb7f090",
   "metadata": {},
   "outputs": [
    {
     "name": "stdout",
     "output_type": "stream",
     "text": [
      "450: Venda baixa\n",
      "820: Venda média\n",
      "1500: Venda alta\n",
      "970: Venda média\n",
      "2000: Venda alta\n",
      "700: Venda baixa\n"
     ]
    }
   ],
   "source": [
    "# sugestao do chatgpt\n",
    "\n",
    "for valor in valores_vendas:\n",
    "    if valor > 1000:\n",
    "        print(f'{valor}: Venda alta')\n",
    "    elif valor >= 800:\n",
    "        print(f'{valor}: Venda média')\n",
    "    else:\n",
    "        print(f'{valor}: Venda baixa')\n"
   ]
  },
  {
   "cell_type": "markdown",
   "id": "fe381d39",
   "metadata": {},
   "source": [
    "🔤 O que é f'{variável}' em Python?\n",
    "\n",
    "✅ f-string (literal de string formatado)\n",
    "\n",
    "O prefixo f antes da string indica que o Python deve avaliar expressões dentro de chaves {} como variáveis ou até operações.\n"
   ]
  },
  {
   "cell_type": "markdown",
   "id": "0b2f5b32",
   "metadata": {},
   "source": [
    "🧩 Exemplo básico:"
   ]
  },
  {
   "cell_type": "code",
   "execution_count": 9,
   "id": "911c6b66",
   "metadata": {},
   "outputs": [
    {
     "name": "stdout",
     "output_type": "stream",
     "text": [
      "Nome: Pedro, Idade: 34\n"
     ]
    }
   ],
   "source": [
    "nome = 'Pedro'\n",
    "idade = 34\n",
    "print(f'Nome: {nome}, Idade: {idade}')"
   ]
  },
  {
   "cell_type": "markdown",
   "id": "5d4a185b",
   "metadata": {},
   "source": [
    "Sem f-string, você teria que fazer:"
   ]
  },
  {
   "cell_type": "code",
   "execution_count": 7,
   "id": "5f6bdae1",
   "metadata": {},
   "outputs": [
    {
     "name": "stdout",
     "output_type": "stream",
     "text": [
      "Nome: Pedro, Idade: 34\n"
     ]
    }
   ],
   "source": [
    "print('Nome: ' + nome + ', Idade: ' + str(idade))"
   ]
  },
  {
   "cell_type": "markdown",
   "id": "79bbfeb8",
   "metadata": {},
   "source": [
    "Ou usando .format() (mais verboso):"
   ]
  },
  {
   "cell_type": "code",
   "execution_count": 8,
   "id": "c09ac3bd",
   "metadata": {},
   "outputs": [
    {
     "name": "stdout",
     "output_type": "stream",
     "text": [
      "Nome: Pedro, Idade: 34\n"
     ]
    }
   ],
   "source": [
    "print('Nome: {}, Idade: {}'.format(nome, idade))"
   ]
  },
  {
   "cell_type": "markdown",
   "id": "60706cb7",
   "metadata": {},
   "source": [
    "💡 Por que usar f-string?\n",
    "\n",
    "Clareza: você lê a string como ela será exibida.\n",
    "\n",
    "Performance: mais rápido que .format() ou concatenação.\n",
    "\n",
    "Flexível: você pode fazer expressões diretamente dentro das chaves."
   ]
  },
  {
   "cell_type": "code",
   "execution_count": 11,
   "id": "5d85c22e",
   "metadata": {},
   "outputs": [
    {
     "name": "stdout",
     "output_type": "stream",
     "text": [
      "Desempenho: 200 acima da meta\n"
     ]
    }
   ],
   "source": [
    "# exemplo com calculo:\n",
    "vendas = 1200\n",
    "meta = 1000\n",
    "print(f'Desempenho: {vendas - meta} acima da meta')"
   ]
  },
  {
   "cell_type": "markdown",
   "id": "70afafa6",
   "metadata": {},
   "source": []
  },
  {
   "cell_type": "markdown",
   "id": "0fa09c3e",
   "metadata": {},
   "source": []
  }
 ],
 "metadata": {
  "kernelspec": {
   "display_name": "base",
   "language": "python",
   "name": "python3"
  },
  "language_info": {
   "codemirror_mode": {
    "name": "ipython",
    "version": 3
   },
   "file_extension": ".py",
   "mimetype": "text/x-python",
   "name": "python",
   "nbconvert_exporter": "python",
   "pygments_lexer": "ipython3",
   "version": "3.13.5"
  }
 },
 "nbformat": 4,
 "nbformat_minor": 5
}
