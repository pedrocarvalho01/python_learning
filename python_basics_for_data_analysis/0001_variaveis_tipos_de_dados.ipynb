{
 "cells": [
  {
   "cell_type": "markdown",
   "id": "eacf36b2",
   "metadata": {},
   "source": [
    "🧱 Tópico 1: Variáveis e Tipos de Dados em Python\n",
    "📌 Por que isso é importante?\n",
    "Antes de manipular dados, você precisa entender como Python armazena e interpreta informações. Isso é fundamental para evitar erros ao trabalhar com números, textos e listas, especialmente ao ler arquivos CSV ou fazer transformações.\n",
    "\n",
    "🧠 Conceitos-Chave\n",
    "Variável: é um nome que armazena um valor.\n",
    "Ex: x = 10 ou nome = \"Pedro\"\n",
    "\n",
    "Tipos de dados comuns:\n",
    "\n",
    "int: números inteiros (10, -5)\n",
    "\n",
    "float: números com casas decimais (3.14, -0.5)\n",
    "\n",
    "str: textos (\"Pedro\", 'dados')\n",
    "\n",
    "bool: valores lógicos (True, False)\n",
    "\n",
    "list: listas de itens ([1, 2, 3], [\"a\", \"b\", \"c\"])"
   ]
  },
  {
   "cell_type": "code",
   "execution_count": 2,
   "id": "ae2acfde",
   "metadata": {},
   "outputs": [
    {
     "name": "stdout",
     "output_type": "stream",
     "text": [
      "Nome: Pedro\n",
      "Idade: 34\n",
      "Altura: 1.78\n",
      "Trabalha com dados? True\n",
      "Ferramentas que conhece: ['Power BI', 'SQL', 'Looker']\n",
      "\n",
      "Tipos de dados:\n",
      "nome: <class 'str'>\n",
      "idade: <class 'int'>\n",
      "altura: <class 'float'>\n",
      "trabalha_com_dados: <class 'bool'>\n",
      "ferramentas: <class 'list'>\n"
     ]
    }
   ],
   "source": [
    "# Definindo variáveis\n",
    "nome = \"Pedro\"\n",
    "idade = 34\n",
    "altura = 1.78\n",
    "trabalha_com_dados = True\n",
    "ferramentas = [\"Power BI\", \"SQL\", \"Looker\"]\n",
    "\n",
    "# Mostrando os valores e tipos\n",
    "print(\"Nome:\", nome)\n",
    "print(\"Idade:\", idade)\n",
    "print(\"Altura:\", altura)\n",
    "print(\"Trabalha com dados?\", trabalha_com_dados)\n",
    "print(\"Ferramentas que conhece:\", ferramentas)\n",
    "\n",
    "# Mostrando os tipos de dados\n",
    "print(\"\\nTipos de dados:\")\n",
    "print(\"nome:\", type(nome))\n",
    "print(\"idade:\", type(idade))\n",
    "print(\"altura:\", type(altura))\n",
    "print(\"trabalha_com_dados:\", type(trabalha_com_dados))\n",
    "print(\"ferramentas:\", type(ferramentas))\n"
   ]
  },
  {
   "cell_type": "markdown",
   "id": "2ef56b9f",
   "metadata": {},
   "source": [
    "✅ O que você deve fazer:\n",
    "Execute o código acima.\n",
    "\n",
    "Verifique se entendeu cada tipo de dado.\n",
    "\n",
    "Modifique os valores para refletir outras informações (ex: troque o nome, mude a lista de ferramentas).\n",
    "\n",
    "Me avise se quiser um segundo exercício ou se já podemos ir para o próximo tópico."
   ]
  },
  {
   "cell_type": "code",
   "execution_count": 6,
   "id": "b22e5d54",
   "metadata": {},
   "outputs": [
    {
     "name": "stdout",
     "output_type": "stream",
     "text": [
      "João\n",
      "<class 'str'>\n"
     ]
    }
   ],
   "source": [
    "nome = 'João'\n",
    "print(nome)\n",
    "print(type(nome))"
   ]
  }
 ],
 "metadata": {
  "kernelspec": {
   "display_name": "base",
   "language": "python",
   "name": "python3"
  },
  "language_info": {
   "codemirror_mode": {
    "name": "ipython",
    "version": 3
   },
   "file_extension": ".py",
   "mimetype": "text/x-python",
   "name": "python",
   "nbconvert_exporter": "python",
   "pygments_lexer": "ipython3",
   "version": "3.13.5"
  }
 },
 "nbformat": 4,
 "nbformat_minor": 5
}
