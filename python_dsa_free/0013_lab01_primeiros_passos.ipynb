{
 "cells": [
  {
   "cell_type": "code",
   "execution_count": 3,
   "id": "151dbe0d",
   "metadata": {},
   "outputs": [
    {
     "data": {
      "text/plain": [
       "4"
      ]
     },
     "execution_count": 3,
     "metadata": {},
     "output_type": "execute_result"
    }
   ],
   "source": [
    "2+2"
   ]
  },
  {
   "cell_type": "code",
   "execution_count": 4,
   "id": "012421ac",
   "metadata": {},
   "outputs": [
    {
     "name": "stdout",
     "output_type": "stream",
     "text": [
      "Olá Mundo\n"
     ]
    }
   ],
   "source": [
    "print('Olá Mundo')"
   ]
  },
  {
   "cell_type": "markdown",
   "id": "1f0a29d6",
   "metadata": {},
   "source": [
    "Gere codigo python que crie lista de numeros de 1 a 100, entao imprima pares e divisiveis por 4"
   ]
  },
  {
   "cell_type": "code",
   "execution_count": 5,
   "id": "cc4891f3",
   "metadata": {},
   "outputs": [
    {
     "name": "stdout",
     "output_type": "stream",
     "text": [
      "[4, 8, 12, 16, 20, 24, 28, 32, 36, 40, 44, 48, 52, 56, 60, 64, 68, 72, 76, 80, 84, 88, 92, 96, 100]\n"
     ]
    }
   ],
   "source": [
    "# cria uma lista com numeros de 1 a 100\n",
    "numeros = list(range(1, 101))\n",
    "\n",
    "# cria uma nova variavel tipo lista chamada numeros_list\n",
    "numeros_list = []\n",
    "\n",
    "# percorre a lista e verifica se o numero eh par e divisivel por 4\n",
    "for numero in numeros:\n",
    "    if numero % 2 == 0 and numero % 4 == 0:\n",
    "        numeros_list.append(numero)  # adiciona o numero na lista\n",
    "\n",
    "# adiciona esses numeros em uma lista e imprime a lista\n",
    "print(numeros_list)"
   ]
  },
  {
   "cell_type": "code",
   "execution_count": 6,
   "id": "3709adb2",
   "metadata": {},
   "outputs": [
    {
     "name": "stdout",
     "output_type": "stream",
     "text": [
      "[4, 8, 12, 16, 20, 24, 28, 32, 36, 40, 44, 48, 52, 56, 60, 64, 68, 72, 76, 80, 84, 88, 92, 96, 100]\n"
     ]
    }
   ],
   "source": [
    "# cria uma lista com numeros entre 1 e 100\n",
    "numeros = list(range(1, 101))\n",
    "\n",
    "# use a list comprehension para criar uma nova lista somente com os numeros pares e divisiveis por 4\n",
    "numeros_pares_divisiveis_por_4 = [numero for numero in numeros if numero % 2 == 0 and numero % 4 == 0]\n",
    "\n",
    "# imprime a lista de numeros pares e divisiveis por 4\n",
    "print(numeros_pares_divisiveis_por_4)\n"
   ]
  },
  {
   "cell_type": "code",
   "execution_count": 8,
   "id": "34f4fa90",
   "metadata": {},
   "outputs": [
    {
     "name": "stdout",
     "output_type": "stream",
     "text": [
      "<class 'int'>\n",
      "<class 'str'>\n",
      "<class 'list'>\n",
      "<class 'dict'>\n"
     ]
    }
   ],
   "source": [
    "x = 10\n",
    "print(type(x))  # <class 'int'>\n",
    "\n",
    "y = \"Pedro\"\n",
    "print(type(y))  # <class 'str'>\n",
    "\n",
    "z = [1, 2, 3]\n",
    "print(type(z))  # <class 'list'>\n",
    "\n",
    "a = {\"nome\": \"Pedro\", \"idade\": 30}\n",
    "print(type(a))  # <class 'dict'>\n"
   ]
  },
  {
   "cell_type": "code",
   "execution_count": null,
   "id": "8f79821f",
   "metadata": {},
   "outputs": [],
   "source": []
  }
 ],
 "metadata": {
  "kernelspec": {
   "display_name": "base",
   "language": "python",
   "name": "python3"
  },
  "language_info": {
   "codemirror_mode": {
    "name": "ipython",
    "version": 3
   },
   "file_extension": ".py",
   "mimetype": "text/x-python",
   "name": "python",
   "nbconvert_exporter": "python",
   "pygments_lexer": "ipython3",
   "version": "3.13.5"
  }
 },
 "nbformat": 4,
 "nbformat_minor": 5
}
