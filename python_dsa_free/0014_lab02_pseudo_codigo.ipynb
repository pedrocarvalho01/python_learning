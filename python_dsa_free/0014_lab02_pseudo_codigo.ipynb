{
 "cells": [
  {
   "cell_type": "code",
   "execution_count": 3,
   "id": "ea2d36f2",
   "metadata": {},
   "outputs": [
    {
     "name": "stdout",
     "output_type": "stream",
     "text": [
      "trabalhando com pseudo-codigo\n"
     ]
    }
   ],
   "source": [
    "print('trabalhando com pseudo-codigo')"
   ]
  },
  {
   "cell_type": "code",
   "execution_count": 5,
   "id": "efd050e8",
   "metadata": {},
   "outputs": [
    {
     "data": {
      "text/plain": [
       "'3.13.5'"
      ]
     },
     "execution_count": 5,
     "metadata": {},
     "output_type": "execute_result"
    }
   ],
   "source": [
    "from platform import python_version\n",
    "python_version()"
   ]
  },
  {
   "cell_type": "code",
   "execution_count": 6,
   "id": "c19dce7e",
   "metadata": {},
   "outputs": [],
   "source": [
    "# pseudo codigo\n",
    "# inicie\n",
    "\n",
    "# exiba bem vindo ao usuario\n",
    "# peça para usuario inserir comprimento da Base\n",
    "# armazene o comprimento da base em uma variavel\n",
    "# peca para o ususario inserir a altura\n",
    "# armazene a altura em uma variavel\n",
    "# calcule a altura sendo base * altura\n",
    "# armazene o resultado em uma variavel\n",
    "# exiba o resultado\n",
    "\n",
    "# fim"
   ]
  },
  {
   "cell_type": "code",
   "execution_count": 12,
   "id": "70b71ec6",
   "metadata": {},
   "outputs": [
    {
     "name": "stdout",
     "output_type": "stream",
     "text": [
      "Bem-vindo ao Calculador de Área de Paralelogramo\n"
     ]
    }
   ],
   "source": [
    "print('Bem-vindo ao Calculador de Área de Paralelogramo')"
   ]
  },
  {
   "cell_type": "code",
   "execution_count": 17,
   "id": "5d283868",
   "metadata": {},
   "outputs": [
    {
     "name": "stdout",
     "output_type": "stream",
     "text": [
      "A area do paralelograma é:  3219.0\n"
     ]
    }
   ],
   "source": [
    "base = float(input('Insira o comprimento da base: '))\n",
    "altura = float(input('Insira a altura: '))\n",
    "area = base * altura\n",
    "print('A area do paralelograma é: ', area)"
   ]
  },
  {
   "cell_type": "code",
   "execution_count": null,
   "id": "90e1c3e6",
   "metadata": {},
   "outputs": [],
   "source": []
  }
 ],
 "metadata": {
  "kernelspec": {
   "display_name": "base",
   "language": "python",
   "name": "python3"
  },
  "language_info": {
   "codemirror_mode": {
    "name": "ipython",
    "version": 3
   },
   "file_extension": ".py",
   "mimetype": "text/x-python",
   "name": "python",
   "nbconvert_exporter": "python",
   "pygments_lexer": "ipython3",
   "version": "3.13.5"
  }
 },
 "nbformat": 4,
 "nbformat_minor": 5
}
